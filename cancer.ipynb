{
  "metadata": {
    "kernelspec": {
      "name": "python",
      "display_name": "Python (Pyodide)",
      "language": "python"
    },
    "language_info": {
      "codemirror_mode": {
        "name": "python",
        "version": 3
      },
      "file_extension": ".py",
      "mimetype": "text/x-python",
      "name": "python",
      "nbconvert_exporter": "python",
      "pygments_lexer": "ipython3",
      "version": "3.8"
    }
  },
  "nbformat_minor": 4,
  "nbformat": 4,
  "cells": [
    {
      "cell_type": "code",
      "source": "import numpy as np\nimport pandas as pd",
      "metadata": {
        "trusted": true
      },
      "outputs": [],
      "execution_count": 2
    },
    {
      "cell_type": "code",
      "source": "breast = pd.read_csv(\"data.csv\")\nbreast.head()",
      "metadata": {
        "trusted": true
      },
      "outputs": [
        {
          "execution_count": 3,
          "output_type": "execute_result",
          "data": {
            "text/plain": "         id diagnosis  radius_mean  texture_mean  perimeter_mean  area_mean  \\\n0    842302         M        17.99         10.38          122.80     1001.0   \n1    842517         M        20.57         17.77          132.90     1326.0   \n2  84300903         M        19.69         21.25          130.00     1203.0   \n3  84348301         M        11.42         20.38           77.58      386.1   \n4  84358402         M        20.29         14.34          135.10     1297.0   \n\n   smoothness_mean  compactness_mean  concavity_mean  concave points_mean  \\\n0          0.11840           0.27760          0.3001              0.14710   \n1          0.08474           0.07864          0.0869              0.07017   \n2          0.10960           0.15990          0.1974              0.12790   \n3          0.14250           0.28390          0.2414              0.10520   \n4          0.10030           0.13280          0.1980              0.10430   \n\n   ...  texture_worst  perimeter_worst  area_worst  smoothness_worst  \\\n0  ...          17.33           184.60      2019.0            0.1622   \n1  ...          23.41           158.80      1956.0            0.1238   \n2  ...          25.53           152.50      1709.0            0.1444   \n3  ...          26.50            98.87       567.7            0.2098   \n4  ...          16.67           152.20      1575.0            0.1374   \n\n   compactness_worst  concavity_worst  concave points_worst  symmetry_worst  \\\n0             0.6656           0.7119                0.2654          0.4601   \n1             0.1866           0.2416                0.1860          0.2750   \n2             0.4245           0.4504                0.2430          0.3613   \n3             0.8663           0.6869                0.2575          0.6638   \n4             0.2050           0.4000                0.1625          0.2364   \n\n   fractal_dimension_worst  Unnamed: 32  \n0                  0.11890          NaN  \n1                  0.08902          NaN  \n2                  0.08758          NaN  \n3                  0.17300          NaN  \n4                  0.07678          NaN  \n\n[5 rows x 33 columns]",
            "text/html": "<div>\n<style scoped>\n    .dataframe tbody tr th:only-of-type {\n        vertical-align: middle;\n    }\n\n    .dataframe tbody tr th {\n        vertical-align: top;\n    }\n\n    .dataframe thead th {\n        text-align: right;\n    }\n</style>\n<table border=\"1\" class=\"dataframe\">\n  <thead>\n    <tr style=\"text-align: right;\">\n      <th></th>\n      <th>id</th>\n      <th>diagnosis</th>\n      <th>radius_mean</th>\n      <th>texture_mean</th>\n      <th>perimeter_mean</th>\n      <th>area_mean</th>\n      <th>smoothness_mean</th>\n      <th>compactness_mean</th>\n      <th>concavity_mean</th>\n      <th>concave points_mean</th>\n      <th>...</th>\n      <th>texture_worst</th>\n      <th>perimeter_worst</th>\n      <th>area_worst</th>\n      <th>smoothness_worst</th>\n      <th>compactness_worst</th>\n      <th>concavity_worst</th>\n      <th>concave points_worst</th>\n      <th>symmetry_worst</th>\n      <th>fractal_dimension_worst</th>\n      <th>Unnamed: 32</th>\n    </tr>\n  </thead>\n  <tbody>\n    <tr>\n      <th>0</th>\n      <td>842302</td>\n      <td>M</td>\n      <td>17.99</td>\n      <td>10.38</td>\n      <td>122.80</td>\n      <td>1001.0</td>\n      <td>0.11840</td>\n      <td>0.27760</td>\n      <td>0.3001</td>\n      <td>0.14710</td>\n      <td>...</td>\n      <td>17.33</td>\n      <td>184.60</td>\n      <td>2019.0</td>\n      <td>0.1622</td>\n      <td>0.6656</td>\n      <td>0.7119</td>\n      <td>0.2654</td>\n      <td>0.4601</td>\n      <td>0.11890</td>\n      <td>NaN</td>\n    </tr>\n    <tr>\n      <th>1</th>\n      <td>842517</td>\n      <td>M</td>\n      <td>20.57</td>\n      <td>17.77</td>\n      <td>132.90</td>\n      <td>1326.0</td>\n      <td>0.08474</td>\n      <td>0.07864</td>\n      <td>0.0869</td>\n      <td>0.07017</td>\n      <td>...</td>\n      <td>23.41</td>\n      <td>158.80</td>\n      <td>1956.0</td>\n      <td>0.1238</td>\n      <td>0.1866</td>\n      <td>0.2416</td>\n      <td>0.1860</td>\n      <td>0.2750</td>\n      <td>0.08902</td>\n      <td>NaN</td>\n    </tr>\n    <tr>\n      <th>2</th>\n      <td>84300903</td>\n      <td>M</td>\n      <td>19.69</td>\n      <td>21.25</td>\n      <td>130.00</td>\n      <td>1203.0</td>\n      <td>0.10960</td>\n      <td>0.15990</td>\n      <td>0.1974</td>\n      <td>0.12790</td>\n      <td>...</td>\n      <td>25.53</td>\n      <td>152.50</td>\n      <td>1709.0</td>\n      <td>0.1444</td>\n      <td>0.4245</td>\n      <td>0.4504</td>\n      <td>0.2430</td>\n      <td>0.3613</td>\n      <td>0.08758</td>\n      <td>NaN</td>\n    </tr>\n    <tr>\n      <th>3</th>\n      <td>84348301</td>\n      <td>M</td>\n      <td>11.42</td>\n      <td>20.38</td>\n      <td>77.58</td>\n      <td>386.1</td>\n      <td>0.14250</td>\n      <td>0.28390</td>\n      <td>0.2414</td>\n      <td>0.10520</td>\n      <td>...</td>\n      <td>26.50</td>\n      <td>98.87</td>\n      <td>567.7</td>\n      <td>0.2098</td>\n      <td>0.8663</td>\n      <td>0.6869</td>\n      <td>0.2575</td>\n      <td>0.6638</td>\n      <td>0.17300</td>\n      <td>NaN</td>\n    </tr>\n    <tr>\n      <th>4</th>\n      <td>84358402</td>\n      <td>M</td>\n      <td>20.29</td>\n      <td>14.34</td>\n      <td>135.10</td>\n      <td>1297.0</td>\n      <td>0.10030</td>\n      <td>0.13280</td>\n      <td>0.1980</td>\n      <td>0.10430</td>\n      <td>...</td>\n      <td>16.67</td>\n      <td>152.20</td>\n      <td>1575.0</td>\n      <td>0.1374</td>\n      <td>0.2050</td>\n      <td>0.4000</td>\n      <td>0.1625</td>\n      <td>0.2364</td>\n      <td>0.07678</td>\n      <td>NaN</td>\n    </tr>\n  </tbody>\n</table>\n<p>5 rows × 33 columns</p>\n</div>"
          },
          "metadata": {}
        }
      ],
      "execution_count": 3
    },
    {
      "cell_type": "code",
      "source": "breast['diagnosis'].value_counts()",
      "metadata": {
        "trusted": true
      },
      "outputs": [
        {
          "execution_count": 5,
          "output_type": "execute_result",
          "data": {
            "text/plain": "B    357\nM    212\nName: diagnosis, dtype: int64"
          },
          "metadata": {}
        }
      ],
      "execution_count": 5
    },
    {
      "cell_type": "code",
      "source": "#ask six questions\nbreast.shape",
      "metadata": {
        "trusted": true
      },
      "outputs": [
        {
          "execution_count": 6,
          "output_type": "execute_result",
          "data": {
            "text/plain": "(569, 33)"
          },
          "metadata": {}
        }
      ],
      "execution_count": 6
    },
    {
      "cell_type": "code",
      "source": "breast.isnull().sum()",
      "metadata": {
        "trusted": true
      },
      "outputs": [
        {
          "execution_count": 7,
          "output_type": "execute_result",
          "data": {
            "text/plain": "id                           0\ndiagnosis                    0\nradius_mean                  0\ntexture_mean                 0\nperimeter_mean               0\narea_mean                    0\nsmoothness_mean              0\ncompactness_mean             0\nconcavity_mean               0\nconcave points_mean          0\nsymmetry_mean                0\nfractal_dimension_mean       0\nradius_se                    0\ntexture_se                   0\nperimeter_se                 0\narea_se                      0\nsmoothness_se                0\ncompactness_se               0\nconcavity_se                 0\nconcave points_se            0\nsymmetry_se                  0\nfractal_dimension_se         0\nradius_worst                 0\ntexture_worst                0\nperimeter_worst              0\narea_worst                   0\nsmoothness_worst             0\ncompactness_worst            0\nconcavity_worst              0\nconcave points_worst         0\nsymmetry_worst               0\nfractal_dimension_worst      0\nUnnamed: 32                569\ndtype: int64"
          },
          "metadata": {}
        }
      ],
      "execution_count": 7
    },
    {
      "cell_type": "code",
      "source": " breast.duplicated().sum()\n",
      "metadata": {
        "trusted": true
      },
      "outputs": [
        {
          "execution_count": 8,
          "output_type": "execute_result",
          "data": {
            "text/plain": "0"
          },
          "metadata": {}
        }
      ],
      "execution_count": 8
    },
    {
      "cell_type": "code",
      "source": "breast.info()",
      "metadata": {
        "trusted": true
      },
      "outputs": [
        {
          "name": "stdout",
          "text": "<class 'pandas.core.frame.DataFrame'>\nRangeIndex: 569 entries, 0 to 568\nData columns (total 33 columns):\n #   Column                   Non-Null Count  Dtype  \n---  ------                   --------------  -----  \n 0   id                       569 non-null    int64  \n 1   diagnosis                569 non-null    object \n 2   radius_mean              569 non-null    float64\n 3   texture_mean             569 non-null    float64\n 4   perimeter_mean           569 non-null    float64\n 5   area_mean                569 non-null    float64\n 6   smoothness_mean          569 non-null    float64\n 7   compactness_mean         569 non-null    float64\n 8   concavity_mean           569 non-null    float64\n 9   concave points_mean      569 non-null    float64\n 10  symmetry_mean            569 non-null    float64\n 11  fractal_dimension_mean   569 non-null    float64\n 12  radius_se                569 non-null    float64\n 13  texture_se               569 non-null    float64\n 14  perimeter_se             569 non-null    float64\n 15  area_se                  569 non-null    float64\n 16  smoothness_se            569 non-null    float64\n 17  compactness_se           569 non-null    float64\n 18  concavity_se             569 non-null    float64\n 19  concave points_se        569 non-null    float64\n 20  symmetry_se              569 non-null    float64\n 21  fractal_dimension_se     569 non-null    float64\n 22  radius_worst             569 non-null    float64\n 23  texture_worst            569 non-null    float64\n 24  perimeter_worst          569 non-null    float64\n 25  area_worst               569 non-null    float64\n 26  smoothness_worst         569 non-null    float64\n 27  compactness_worst        569 non-null    float64\n 28  concavity_worst          569 non-null    float64\n 29  concave points_worst     569 non-null    float64\n 30  symmetry_worst           569 non-null    float64\n 31  fractal_dimension_worst  569 non-null    float64\n 32  Unnamed: 32              0 non-null      float64\ndtypes: float64(31), int64(1), object(1)\nmemory usage: 144.5+ KB\n",
          "output_type": "stream"
        }
      ],
      "execution_count": 9
    },
    {
      "cell_type": "code",
      "source": "breast.corr()",
      "metadata": {
        "trusted": true
      },
      "outputs": [
        {
          "name": "stderr",
          "text": "<ipython-input-10-fcd75b98934c>:1: FutureWarning: The default value of numeric_only in DataFrame.corr is deprecated. In a future version, it will default to False. Select only valid columns or specify the value of numeric_only to silence this warning.\n  breast.corr()\n",
          "output_type": "stream"
        },
        {
          "execution_count": 10,
          "output_type": "execute_result",
          "data": {
            "text/plain": "                               id  radius_mean  texture_mean  perimeter_mean  \\\nid                       1.000000     0.074626      0.099770        0.073159   \nradius_mean              0.074626     1.000000      0.323782        0.997855   \ntexture_mean             0.099770     0.323782      1.000000        0.329533   \nperimeter_mean           0.073159     0.997855      0.329533        1.000000   \narea_mean                0.096893     0.987357      0.321086        0.986507   \nsmoothness_mean         -0.012968     0.170581     -0.023389        0.207278   \ncompactness_mean         0.000096     0.506124      0.236702        0.556936   \nconcavity_mean           0.050080     0.676764      0.302418        0.716136   \nconcave points_mean      0.044158     0.822529      0.293464        0.850977   \nsymmetry_mean           -0.022114     0.147741      0.071401        0.183027   \nfractal_dimension_mean  -0.052511    -0.311631     -0.076437       -0.261477   \nradius_se                0.143048     0.679090      0.275869        0.691765   \ntexture_se              -0.007526    -0.097317      0.386358       -0.086761   \nperimeter_se             0.137331     0.674172      0.281673        0.693135   \narea_se                  0.177742     0.735864      0.259845        0.744983   \nsmoothness_se            0.096781    -0.222600      0.006614       -0.202694   \ncompactness_se           0.033961     0.206000      0.191975        0.250744   \nconcavity_se             0.055239     0.194204      0.143293        0.228082   \nconcave points_se        0.078768     0.376169      0.163851        0.407217   \nsymmetry_se             -0.017306    -0.104321      0.009127       -0.081629   \nfractal_dimension_se     0.025725    -0.042641      0.054458       -0.005523   \nradius_worst             0.082405     0.969539      0.352573        0.969476   \ntexture_worst            0.064720     0.297008      0.912045        0.303038   \nperimeter_worst          0.079986     0.965137      0.358040        0.970387   \narea_worst               0.107187     0.941082      0.343546        0.941550   \nsmoothness_worst         0.010338     0.119616      0.077503        0.150549   \ncompactness_worst       -0.002968     0.413463      0.277830        0.455774   \nconcavity_worst          0.023203     0.526911      0.301025        0.563879   \nconcave points_worst     0.035174     0.744214      0.295316        0.771241   \nsymmetry_worst          -0.044224     0.163953      0.105008        0.189115   \nfractal_dimension_worst -0.029866     0.007066      0.119205        0.051019   \nUnnamed: 32                   NaN          NaN           NaN             NaN   \n\n                         area_mean  smoothness_mean  compactness_mean  \\\nid                        0.096893        -0.012968          0.000096   \nradius_mean               0.987357         0.170581          0.506124   \ntexture_mean              0.321086        -0.023389          0.236702   \nperimeter_mean            0.986507         0.207278          0.556936   \narea_mean                 1.000000         0.177028          0.498502   \nsmoothness_mean           0.177028         1.000000          0.659123   \ncompactness_mean          0.498502         0.659123          1.000000   \nconcavity_mean            0.685983         0.521984          0.883121   \nconcave points_mean       0.823269         0.553695          0.831135   \nsymmetry_mean             0.151293         0.557775          0.602641   \nfractal_dimension_mean   -0.283110         0.584792          0.565369   \nradius_se                 0.732562         0.301467          0.497473   \ntexture_se               -0.066280         0.068406          0.046205   \nperimeter_se              0.726628         0.296092          0.548905   \narea_se                   0.800086         0.246552          0.455653   \nsmoothness_se            -0.166777         0.332375          0.135299   \ncompactness_se            0.212583         0.318943          0.738722   \nconcavity_se              0.207660         0.248396          0.570517   \nconcave points_se         0.372320         0.380676          0.642262   \nsymmetry_se              -0.072497         0.200774          0.229977   \nfractal_dimension_se     -0.019887         0.283607          0.507318   \nradius_worst              0.962746         0.213120          0.535315   \ntexture_worst             0.287489         0.036072          0.248133   \nperimeter_worst           0.959120         0.238853          0.590210   \narea_worst                0.959213         0.206718          0.509604   \nsmoothness_worst          0.123523         0.805324          0.565541   \ncompactness_worst         0.390410         0.472468          0.865809   \nconcavity_worst           0.512606         0.434926          0.816275   \nconcave points_worst      0.722017         0.503053          0.815573   \nsymmetry_worst            0.143570         0.394309          0.510223   \nfractal_dimension_worst   0.003738         0.499316          0.687382   \nUnnamed: 32                    NaN              NaN               NaN   \n\n                         concavity_mean  concave points_mean  symmetry_mean  \\\nid                             0.050080             0.044158      -0.022114   \nradius_mean                    0.676764             0.822529       0.147741   \ntexture_mean                   0.302418             0.293464       0.071401   \nperimeter_mean                 0.716136             0.850977       0.183027   \narea_mean                      0.685983             0.823269       0.151293   \nsmoothness_mean                0.521984             0.553695       0.557775   \ncompactness_mean               0.883121             0.831135       0.602641   \nconcavity_mean                 1.000000             0.921391       0.500667   \nconcave points_mean            0.921391             1.000000       0.462497   \nsymmetry_mean                  0.500667             0.462497       1.000000   \nfractal_dimension_mean         0.336783             0.166917       0.479921   \nradius_se                      0.631925             0.698050       0.303379   \ntexture_se                     0.076218             0.021480       0.128053   \nperimeter_se                   0.660391             0.710650       0.313893   \narea_se                        0.617427             0.690299       0.223970   \nsmoothness_se                  0.098564             0.027653       0.187321   \ncompactness_se                 0.670279             0.490424       0.421659   \nconcavity_se                   0.691270             0.439167       0.342627   \nconcave points_se              0.683260             0.615634       0.393298   \nsymmetry_se                    0.178009             0.095351       0.449137   \nfractal_dimension_se           0.449301             0.257584       0.331786   \nradius_worst                   0.688236             0.830318       0.185728   \ntexture_worst                  0.299879             0.292752       0.090651   \nperimeter_worst                0.729565             0.855923       0.219169   \narea_worst                     0.675987             0.809630       0.177193   \nsmoothness_worst               0.448822             0.452753       0.426675   \ncompactness_worst              0.754968             0.667454       0.473200   \nconcavity_worst                0.884103             0.752399       0.433721   \nconcave points_worst           0.861323             0.910155       0.430297   \nsymmetry_worst                 0.409464             0.375744       0.699826   \nfractal_dimension_worst        0.514930             0.368661       0.438413   \nUnnamed: 32                         NaN                  NaN            NaN   \n\n                         ...  texture_worst  perimeter_worst  area_worst  \\\nid                       ...       0.064720         0.079986    0.107187   \nradius_mean              ...       0.297008         0.965137    0.941082   \ntexture_mean             ...       0.912045         0.358040    0.343546   \nperimeter_mean           ...       0.303038         0.970387    0.941550   \narea_mean                ...       0.287489         0.959120    0.959213   \nsmoothness_mean          ...       0.036072         0.238853    0.206718   \ncompactness_mean         ...       0.248133         0.590210    0.509604   \nconcavity_mean           ...       0.299879         0.729565    0.675987   \nconcave points_mean      ...       0.292752         0.855923    0.809630   \nsymmetry_mean            ...       0.090651         0.219169    0.177193   \nfractal_dimension_mean   ...      -0.051269        -0.205151   -0.231854   \nradius_se                ...       0.194799         0.719684    0.751548   \ntexture_se               ...       0.409003        -0.102242   -0.083195   \nperimeter_se             ...       0.200371         0.721031    0.730713   \narea_se                  ...       0.196497         0.761213    0.811408   \nsmoothness_se            ...      -0.074743        -0.217304   -0.182195   \ncompactness_se           ...       0.143003         0.260516    0.199371   \nconcavity_se             ...       0.100241         0.226680    0.188353   \nconcave points_se        ...       0.086741         0.394999    0.342271   \nsymmetry_se              ...      -0.077473        -0.103753   -0.110343   \nfractal_dimension_se     ...      -0.003195        -0.001000   -0.022736   \nradius_worst             ...       0.359921         0.993708    0.984015   \ntexture_worst            ...       1.000000         0.365098    0.345842   \nperimeter_worst          ...       0.365098         1.000000    0.977578   \narea_worst               ...       0.345842         0.977578    1.000000   \nsmoothness_worst         ...       0.225429         0.236775    0.209145   \ncompactness_worst        ...       0.360832         0.529408    0.438296   \nconcavity_worst          ...       0.368366         0.618344    0.543331   \nconcave points_worst     ...       0.359755         0.816322    0.747419   \nsymmetry_worst           ...       0.233027         0.269493    0.209146   \nfractal_dimension_worst  ...       0.219122         0.138957    0.079647   \nUnnamed: 32              ...            NaN              NaN         NaN   \n\n                         smoothness_worst  compactness_worst  concavity_worst  \\\nid                               0.010338          -0.002968         0.023203   \nradius_mean                      0.119616           0.413463         0.526911   \ntexture_mean                     0.077503           0.277830         0.301025   \nperimeter_mean                   0.150549           0.455774         0.563879   \narea_mean                        0.123523           0.390410         0.512606   \nsmoothness_mean                  0.805324           0.472468         0.434926   \ncompactness_mean                 0.565541           0.865809         0.816275   \nconcavity_mean                   0.448822           0.754968         0.884103   \nconcave points_mean              0.452753           0.667454         0.752399   \nsymmetry_mean                    0.426675           0.473200         0.433721   \nfractal_dimension_mean           0.504942           0.458798         0.346234   \nradius_se                        0.141919           0.287103         0.380585   \ntexture_se                      -0.073658          -0.092439        -0.068956   \nperimeter_se                     0.130054           0.341919         0.418899   \narea_se                          0.125389           0.283257         0.385100   \nsmoothness_se                    0.314457          -0.055558        -0.058298   \ncompactness_se                   0.227394           0.678780         0.639147   \nconcavity_se                     0.168481           0.484858         0.662564   \nconcave points_se                0.215351           0.452888         0.549592   \nsymmetry_se                     -0.012662           0.060255         0.037119   \nfractal_dimension_se             0.170568           0.390159         0.379975   \nradius_worst                     0.216574           0.475820         0.573975   \ntexture_worst                    0.225429           0.360832         0.368366   \nperimeter_worst                  0.236775           0.529408         0.618344   \narea_worst                       0.209145           0.438296         0.543331   \nsmoothness_worst                 1.000000           0.568187         0.518523   \ncompactness_worst                0.568187           1.000000         0.892261   \nconcavity_worst                  0.518523           0.892261         1.000000   \nconcave points_worst             0.547691           0.801080         0.855434   \nsymmetry_worst                   0.493838           0.614441         0.532520   \nfractal_dimension_worst          0.617624           0.810455         0.686511   \nUnnamed: 32                           NaN                NaN              NaN   \n\n                         concave points_worst  symmetry_worst  \\\nid                                   0.035174       -0.044224   \nradius_mean                          0.744214        0.163953   \ntexture_mean                         0.295316        0.105008   \nperimeter_mean                       0.771241        0.189115   \narea_mean                            0.722017        0.143570   \nsmoothness_mean                      0.503053        0.394309   \ncompactness_mean                     0.815573        0.510223   \nconcavity_mean                       0.861323        0.409464   \nconcave points_mean                  0.910155        0.375744   \nsymmetry_mean                        0.430297        0.699826   \nfractal_dimension_mean               0.175325        0.334019   \nradius_se                            0.531062        0.094543   \ntexture_se                          -0.119638       -0.128215   \nperimeter_se                         0.554897        0.109930   \narea_se                              0.538166        0.074126   \nsmoothness_se                       -0.102007       -0.107342   \ncompactness_se                       0.483208        0.277878   \nconcavity_se                         0.440472        0.197788   \nconcave points_se                    0.602450        0.143116   \nsymmetry_se                         -0.030413        0.389402   \nfractal_dimension_se                 0.215204        0.111094   \nradius_worst                         0.787424        0.243529   \ntexture_worst                        0.359755        0.233027   \nperimeter_worst                      0.816322        0.269493   \narea_worst                           0.747419        0.209146   \nsmoothness_worst                     0.547691        0.493838   \ncompactness_worst                    0.801080        0.614441   \nconcavity_worst                      0.855434        0.532520   \nconcave points_worst                 1.000000        0.502528   \nsymmetry_worst                       0.502528        1.000000   \nfractal_dimension_worst              0.511114        0.537848   \nUnnamed: 32                               NaN             NaN   \n\n                         fractal_dimension_worst  Unnamed: 32  \nid                                     -0.029866          NaN  \nradius_mean                             0.007066          NaN  \ntexture_mean                            0.119205          NaN  \nperimeter_mean                          0.051019          NaN  \narea_mean                               0.003738          NaN  \nsmoothness_mean                         0.499316          NaN  \ncompactness_mean                        0.687382          NaN  \nconcavity_mean                          0.514930          NaN  \nconcave points_mean                     0.368661          NaN  \nsymmetry_mean                           0.438413          NaN  \nfractal_dimension_mean                  0.767297          NaN  \nradius_se                               0.049559          NaN  \ntexture_se                             -0.045655          NaN  \nperimeter_se                            0.085433          NaN  \narea_se                                 0.017539          NaN  \nsmoothness_se                           0.101480          NaN  \ncompactness_se                          0.590973          NaN  \nconcavity_se                            0.439329          NaN  \nconcave points_se                       0.310655          NaN  \nsymmetry_se                             0.078079          NaN  \nfractal_dimension_se                    0.591328          NaN  \nradius_worst                            0.093492          NaN  \ntexture_worst                           0.219122          NaN  \nperimeter_worst                         0.138957          NaN  \narea_worst                              0.079647          NaN  \nsmoothness_worst                        0.617624          NaN  \ncompactness_worst                       0.810455          NaN  \nconcavity_worst                         0.686511          NaN  \nconcave points_worst                    0.511114          NaN  \nsymmetry_worst                          0.537848          NaN  \nfractal_dimension_worst                 1.000000          NaN  \nUnnamed: 32                                  NaN          NaN  \n\n[32 rows x 32 columns]",
            "text/html": "<div>\n<style scoped>\n    .dataframe tbody tr th:only-of-type {\n        vertical-align: middle;\n    }\n\n    .dataframe tbody tr th {\n        vertical-align: top;\n    }\n\n    .dataframe thead th {\n        text-align: right;\n    }\n</style>\n<table border=\"1\" class=\"dataframe\">\n  <thead>\n    <tr style=\"text-align: right;\">\n      <th></th>\n      <th>id</th>\n      <th>radius_mean</th>\n      <th>texture_mean</th>\n      <th>perimeter_mean</th>\n      <th>area_mean</th>\n      <th>smoothness_mean</th>\n      <th>compactness_mean</th>\n      <th>concavity_mean</th>\n      <th>concave points_mean</th>\n      <th>symmetry_mean</th>\n      <th>...</th>\n      <th>texture_worst</th>\n      <th>perimeter_worst</th>\n      <th>area_worst</th>\n      <th>smoothness_worst</th>\n      <th>compactness_worst</th>\n      <th>concavity_worst</th>\n      <th>concave points_worst</th>\n      <th>symmetry_worst</th>\n      <th>fractal_dimension_worst</th>\n      <th>Unnamed: 32</th>\n    </tr>\n  </thead>\n  <tbody>\n    <tr>\n      <th>id</th>\n      <td>1.000000</td>\n      <td>0.074626</td>\n      <td>0.099770</td>\n      <td>0.073159</td>\n      <td>0.096893</td>\n      <td>-0.012968</td>\n      <td>0.000096</td>\n      <td>0.050080</td>\n      <td>0.044158</td>\n      <td>-0.022114</td>\n      <td>...</td>\n      <td>0.064720</td>\n      <td>0.079986</td>\n      <td>0.107187</td>\n      <td>0.010338</td>\n      <td>-0.002968</td>\n      <td>0.023203</td>\n      <td>0.035174</td>\n      <td>-0.044224</td>\n      <td>-0.029866</td>\n      <td>NaN</td>\n    </tr>\n    <tr>\n      <th>radius_mean</th>\n      <td>0.074626</td>\n      <td>1.000000</td>\n      <td>0.323782</td>\n      <td>0.997855</td>\n      <td>0.987357</td>\n      <td>0.170581</td>\n      <td>0.506124</td>\n      <td>0.676764</td>\n      <td>0.822529</td>\n      <td>0.147741</td>\n      <td>...</td>\n      <td>0.297008</td>\n      <td>0.965137</td>\n      <td>0.941082</td>\n      <td>0.119616</td>\n      <td>0.413463</td>\n      <td>0.526911</td>\n      <td>0.744214</td>\n      <td>0.163953</td>\n      <td>0.007066</td>\n      <td>NaN</td>\n    </tr>\n    <tr>\n      <th>texture_mean</th>\n      <td>0.099770</td>\n      <td>0.323782</td>\n      <td>1.000000</td>\n      <td>0.329533</td>\n      <td>0.321086</td>\n      <td>-0.023389</td>\n      <td>0.236702</td>\n      <td>0.302418</td>\n      <td>0.293464</td>\n      <td>0.071401</td>\n      <td>...</td>\n      <td>0.912045</td>\n      <td>0.358040</td>\n      <td>0.343546</td>\n      <td>0.077503</td>\n      <td>0.277830</td>\n      <td>0.301025</td>\n      <td>0.295316</td>\n      <td>0.105008</td>\n      <td>0.119205</td>\n      <td>NaN</td>\n    </tr>\n    <tr>\n      <th>perimeter_mean</th>\n      <td>0.073159</td>\n      <td>0.997855</td>\n      <td>0.329533</td>\n      <td>1.000000</td>\n      <td>0.986507</td>\n      <td>0.207278</td>\n      <td>0.556936</td>\n      <td>0.716136</td>\n      <td>0.850977</td>\n      <td>0.183027</td>\n      <td>...</td>\n      <td>0.303038</td>\n      <td>0.970387</td>\n      <td>0.941550</td>\n      <td>0.150549</td>\n      <td>0.455774</td>\n      <td>0.563879</td>\n      <td>0.771241</td>\n      <td>0.189115</td>\n      <td>0.051019</td>\n      <td>NaN</td>\n    </tr>\n    <tr>\n      <th>area_mean</th>\n      <td>0.096893</td>\n      <td>0.987357</td>\n      <td>0.321086</td>\n      <td>0.986507</td>\n      <td>1.000000</td>\n      <td>0.177028</td>\n      <td>0.498502</td>\n      <td>0.685983</td>\n      <td>0.823269</td>\n      <td>0.151293</td>\n      <td>...</td>\n      <td>0.287489</td>\n      <td>0.959120</td>\n      <td>0.959213</td>\n      <td>0.123523</td>\n      <td>0.390410</td>\n      <td>0.512606</td>\n      <td>0.722017</td>\n      <td>0.143570</td>\n      <td>0.003738</td>\n      <td>NaN</td>\n    </tr>\n    <tr>\n      <th>smoothness_mean</th>\n      <td>-0.012968</td>\n      <td>0.170581</td>\n      <td>-0.023389</td>\n      <td>0.207278</td>\n      <td>0.177028</td>\n      <td>1.000000</td>\n      <td>0.659123</td>\n      <td>0.521984</td>\n      <td>0.553695</td>\n      <td>0.557775</td>\n      <td>...</td>\n      <td>0.036072</td>\n      <td>0.238853</td>\n      <td>0.206718</td>\n      <td>0.805324</td>\n      <td>0.472468</td>\n      <td>0.434926</td>\n      <td>0.503053</td>\n      <td>0.394309</td>\n      <td>0.499316</td>\n      <td>NaN</td>\n    </tr>\n    <tr>\n      <th>compactness_mean</th>\n      <td>0.000096</td>\n      <td>0.506124</td>\n      <td>0.236702</td>\n      <td>0.556936</td>\n      <td>0.498502</td>\n      <td>0.659123</td>\n      <td>1.000000</td>\n      <td>0.883121</td>\n      <td>0.831135</td>\n      <td>0.602641</td>\n      <td>...</td>\n      <td>0.248133</td>\n      <td>0.590210</td>\n      <td>0.509604</td>\n      <td>0.565541</td>\n      <td>0.865809</td>\n      <td>0.816275</td>\n      <td>0.815573</td>\n      <td>0.510223</td>\n      <td>0.687382</td>\n      <td>NaN</td>\n    </tr>\n    <tr>\n      <th>concavity_mean</th>\n      <td>0.050080</td>\n      <td>0.676764</td>\n      <td>0.302418</td>\n      <td>0.716136</td>\n      <td>0.685983</td>\n      <td>0.521984</td>\n      <td>0.883121</td>\n      <td>1.000000</td>\n      <td>0.921391</td>\n      <td>0.500667</td>\n      <td>...</td>\n      <td>0.299879</td>\n      <td>0.729565</td>\n      <td>0.675987</td>\n      <td>0.448822</td>\n      <td>0.754968</td>\n      <td>0.884103</td>\n      <td>0.861323</td>\n      <td>0.409464</td>\n      <td>0.514930</td>\n      <td>NaN</td>\n    </tr>\n    <tr>\n      <th>concave points_mean</th>\n      <td>0.044158</td>\n      <td>0.822529</td>\n      <td>0.293464</td>\n      <td>0.850977</td>\n      <td>0.823269</td>\n      <td>0.553695</td>\n      <td>0.831135</td>\n      <td>0.921391</td>\n      <td>1.000000</td>\n      <td>0.462497</td>\n      <td>...</td>\n      <td>0.292752</td>\n      <td>0.855923</td>\n      <td>0.809630</td>\n      <td>0.452753</td>\n      <td>0.667454</td>\n      <td>0.752399</td>\n      <td>0.910155</td>\n      <td>0.375744</td>\n      <td>0.368661</td>\n      <td>NaN</td>\n    </tr>\n    <tr>\n      <th>symmetry_mean</th>\n      <td>-0.022114</td>\n      <td>0.147741</td>\n      <td>0.071401</td>\n      <td>0.183027</td>\n      <td>0.151293</td>\n      <td>0.557775</td>\n      <td>0.602641</td>\n      <td>0.500667</td>\n      <td>0.462497</td>\n      <td>1.000000</td>\n      <td>...</td>\n      <td>0.090651</td>\n      <td>0.219169</td>\n      <td>0.177193</td>\n      <td>0.426675</td>\n      <td>0.473200</td>\n      <td>0.433721</td>\n      <td>0.430297</td>\n      <td>0.699826</td>\n      <td>0.438413</td>\n      <td>NaN</td>\n    </tr>\n    <tr>\n      <th>fractal_dimension_mean</th>\n      <td>-0.052511</td>\n      <td>-0.311631</td>\n      <td>-0.076437</td>\n      <td>-0.261477</td>\n      <td>-0.283110</td>\n      <td>0.584792</td>\n      <td>0.565369</td>\n      <td>0.336783</td>\n      <td>0.166917</td>\n      <td>0.479921</td>\n      <td>...</td>\n      <td>-0.051269</td>\n      <td>-0.205151</td>\n      <td>-0.231854</td>\n      <td>0.504942</td>\n      <td>0.458798</td>\n      <td>0.346234</td>\n      <td>0.175325</td>\n      <td>0.334019</td>\n      <td>0.767297</td>\n      <td>NaN</td>\n    </tr>\n    <tr>\n      <th>radius_se</th>\n      <td>0.143048</td>\n      <td>0.679090</td>\n      <td>0.275869</td>\n      <td>0.691765</td>\n      <td>0.732562</td>\n      <td>0.301467</td>\n      <td>0.497473</td>\n      <td>0.631925</td>\n      <td>0.698050</td>\n      <td>0.303379</td>\n      <td>...</td>\n      <td>0.194799</td>\n      <td>0.719684</td>\n      <td>0.751548</td>\n      <td>0.141919</td>\n      <td>0.287103</td>\n      <td>0.380585</td>\n      <td>0.531062</td>\n      <td>0.094543</td>\n      <td>0.049559</td>\n      <td>NaN</td>\n    </tr>\n    <tr>\n      <th>texture_se</th>\n      <td>-0.007526</td>\n      <td>-0.097317</td>\n      <td>0.386358</td>\n      <td>-0.086761</td>\n      <td>-0.066280</td>\n      <td>0.068406</td>\n      <td>0.046205</td>\n      <td>0.076218</td>\n      <td>0.021480</td>\n      <td>0.128053</td>\n      <td>...</td>\n      <td>0.409003</td>\n      <td>-0.102242</td>\n      <td>-0.083195</td>\n      <td>-0.073658</td>\n      <td>-0.092439</td>\n      <td>-0.068956</td>\n      <td>-0.119638</td>\n      <td>-0.128215</td>\n      <td>-0.045655</td>\n      <td>NaN</td>\n    </tr>\n    <tr>\n      <th>perimeter_se</th>\n      <td>0.137331</td>\n      <td>0.674172</td>\n      <td>0.281673</td>\n      <td>0.693135</td>\n      <td>0.726628</td>\n      <td>0.296092</td>\n      <td>0.548905</td>\n      <td>0.660391</td>\n      <td>0.710650</td>\n      <td>0.313893</td>\n      <td>...</td>\n      <td>0.200371</td>\n      <td>0.721031</td>\n      <td>0.730713</td>\n      <td>0.130054</td>\n      <td>0.341919</td>\n      <td>0.418899</td>\n      <td>0.554897</td>\n      <td>0.109930</td>\n      <td>0.085433</td>\n      <td>NaN</td>\n    </tr>\n    <tr>\n      <th>area_se</th>\n      <td>0.177742</td>\n      <td>0.735864</td>\n      <td>0.259845</td>\n      <td>0.744983</td>\n      <td>0.800086</td>\n      <td>0.246552</td>\n      <td>0.455653</td>\n      <td>0.617427</td>\n      <td>0.690299</td>\n      <td>0.223970</td>\n      <td>...</td>\n      <td>0.196497</td>\n      <td>0.761213</td>\n      <td>0.811408</td>\n      <td>0.125389</td>\n      <td>0.283257</td>\n      <td>0.385100</td>\n      <td>0.538166</td>\n      <td>0.074126</td>\n      <td>0.017539</td>\n      <td>NaN</td>\n    </tr>\n    <tr>\n      <th>smoothness_se</th>\n      <td>0.096781</td>\n      <td>-0.222600</td>\n      <td>0.006614</td>\n      <td>-0.202694</td>\n      <td>-0.166777</td>\n      <td>0.332375</td>\n      <td>0.135299</td>\n      <td>0.098564</td>\n      <td>0.027653</td>\n      <td>0.187321</td>\n      <td>...</td>\n      <td>-0.074743</td>\n      <td>-0.217304</td>\n      <td>-0.182195</td>\n      <td>0.314457</td>\n      <td>-0.055558</td>\n      <td>-0.058298</td>\n      <td>-0.102007</td>\n      <td>-0.107342</td>\n      <td>0.101480</td>\n      <td>NaN</td>\n    </tr>\n    <tr>\n      <th>compactness_se</th>\n      <td>0.033961</td>\n      <td>0.206000</td>\n      <td>0.191975</td>\n      <td>0.250744</td>\n      <td>0.212583</td>\n      <td>0.318943</td>\n      <td>0.738722</td>\n      <td>0.670279</td>\n      <td>0.490424</td>\n      <td>0.421659</td>\n      <td>...</td>\n      <td>0.143003</td>\n      <td>0.260516</td>\n      <td>0.199371</td>\n      <td>0.227394</td>\n      <td>0.678780</td>\n      <td>0.639147</td>\n      <td>0.483208</td>\n      <td>0.277878</td>\n      <td>0.590973</td>\n      <td>NaN</td>\n    </tr>\n    <tr>\n      <th>concavity_se</th>\n      <td>0.055239</td>\n      <td>0.194204</td>\n      <td>0.143293</td>\n      <td>0.228082</td>\n      <td>0.207660</td>\n      <td>0.248396</td>\n      <td>0.570517</td>\n      <td>0.691270</td>\n      <td>0.439167</td>\n      <td>0.342627</td>\n      <td>...</td>\n      <td>0.100241</td>\n      <td>0.226680</td>\n      <td>0.188353</td>\n      <td>0.168481</td>\n      <td>0.484858</td>\n      <td>0.662564</td>\n      <td>0.440472</td>\n      <td>0.197788</td>\n      <td>0.439329</td>\n      <td>NaN</td>\n    </tr>\n    <tr>\n      <th>concave points_se</th>\n      <td>0.078768</td>\n      <td>0.376169</td>\n      <td>0.163851</td>\n      <td>0.407217</td>\n      <td>0.372320</td>\n      <td>0.380676</td>\n      <td>0.642262</td>\n      <td>0.683260</td>\n      <td>0.615634</td>\n      <td>0.393298</td>\n      <td>...</td>\n      <td>0.086741</td>\n      <td>0.394999</td>\n      <td>0.342271</td>\n      <td>0.215351</td>\n      <td>0.452888</td>\n      <td>0.549592</td>\n      <td>0.602450</td>\n      <td>0.143116</td>\n      <td>0.310655</td>\n      <td>NaN</td>\n    </tr>\n    <tr>\n      <th>symmetry_se</th>\n      <td>-0.017306</td>\n      <td>-0.104321</td>\n      <td>0.009127</td>\n      <td>-0.081629</td>\n      <td>-0.072497</td>\n      <td>0.200774</td>\n      <td>0.229977</td>\n      <td>0.178009</td>\n      <td>0.095351</td>\n      <td>0.449137</td>\n      <td>...</td>\n      <td>-0.077473</td>\n      <td>-0.103753</td>\n      <td>-0.110343</td>\n      <td>-0.012662</td>\n      <td>0.060255</td>\n      <td>0.037119</td>\n      <td>-0.030413</td>\n      <td>0.389402</td>\n      <td>0.078079</td>\n      <td>NaN</td>\n    </tr>\n    <tr>\n      <th>fractal_dimension_se</th>\n      <td>0.025725</td>\n      <td>-0.042641</td>\n      <td>0.054458</td>\n      <td>-0.005523</td>\n      <td>-0.019887</td>\n      <td>0.283607</td>\n      <td>0.507318</td>\n      <td>0.449301</td>\n      <td>0.257584</td>\n      <td>0.331786</td>\n      <td>...</td>\n      <td>-0.003195</td>\n      <td>-0.001000</td>\n      <td>-0.022736</td>\n      <td>0.170568</td>\n      <td>0.390159</td>\n      <td>0.379975</td>\n      <td>0.215204</td>\n      <td>0.111094</td>\n      <td>0.591328</td>\n      <td>NaN</td>\n    </tr>\n    <tr>\n      <th>radius_worst</th>\n      <td>0.082405</td>\n      <td>0.969539</td>\n      <td>0.352573</td>\n      <td>0.969476</td>\n      <td>0.962746</td>\n      <td>0.213120</td>\n      <td>0.535315</td>\n      <td>0.688236</td>\n      <td>0.830318</td>\n      <td>0.185728</td>\n      <td>...</td>\n      <td>0.359921</td>\n      <td>0.993708</td>\n      <td>0.984015</td>\n      <td>0.216574</td>\n      <td>0.475820</td>\n      <td>0.573975</td>\n      <td>0.787424</td>\n      <td>0.243529</td>\n      <td>0.093492</td>\n      <td>NaN</td>\n    </tr>\n    <tr>\n      <th>texture_worst</th>\n      <td>0.064720</td>\n      <td>0.297008</td>\n      <td>0.912045</td>\n      <td>0.303038</td>\n      <td>0.287489</td>\n      <td>0.036072</td>\n      <td>0.248133</td>\n      <td>0.299879</td>\n      <td>0.292752</td>\n      <td>0.090651</td>\n      <td>...</td>\n      <td>1.000000</td>\n      <td>0.365098</td>\n      <td>0.345842</td>\n      <td>0.225429</td>\n      <td>0.360832</td>\n      <td>0.368366</td>\n      <td>0.359755</td>\n      <td>0.233027</td>\n      <td>0.219122</td>\n      <td>NaN</td>\n    </tr>\n    <tr>\n      <th>perimeter_worst</th>\n      <td>0.079986</td>\n      <td>0.965137</td>\n      <td>0.358040</td>\n      <td>0.970387</td>\n      <td>0.959120</td>\n      <td>0.238853</td>\n      <td>0.590210</td>\n      <td>0.729565</td>\n      <td>0.855923</td>\n      <td>0.219169</td>\n      <td>...</td>\n      <td>0.365098</td>\n      <td>1.000000</td>\n      <td>0.977578</td>\n      <td>0.236775</td>\n      <td>0.529408</td>\n      <td>0.618344</td>\n      <td>0.816322</td>\n      <td>0.269493</td>\n      <td>0.138957</td>\n      <td>NaN</td>\n    </tr>\n    <tr>\n      <th>area_worst</th>\n      <td>0.107187</td>\n      <td>0.941082</td>\n      <td>0.343546</td>\n      <td>0.941550</td>\n      <td>0.959213</td>\n      <td>0.206718</td>\n      <td>0.509604</td>\n      <td>0.675987</td>\n      <td>0.809630</td>\n      <td>0.177193</td>\n      <td>...</td>\n      <td>0.345842</td>\n      <td>0.977578</td>\n      <td>1.000000</td>\n      <td>0.209145</td>\n      <td>0.438296</td>\n      <td>0.543331</td>\n      <td>0.747419</td>\n      <td>0.209146</td>\n      <td>0.079647</td>\n      <td>NaN</td>\n    </tr>\n    <tr>\n      <th>smoothness_worst</th>\n      <td>0.010338</td>\n      <td>0.119616</td>\n      <td>0.077503</td>\n      <td>0.150549</td>\n      <td>0.123523</td>\n      <td>0.805324</td>\n      <td>0.565541</td>\n      <td>0.448822</td>\n      <td>0.452753</td>\n      <td>0.426675</td>\n      <td>...</td>\n      <td>0.225429</td>\n      <td>0.236775</td>\n      <td>0.209145</td>\n      <td>1.000000</td>\n      <td>0.568187</td>\n      <td>0.518523</td>\n      <td>0.547691</td>\n      <td>0.493838</td>\n      <td>0.617624</td>\n      <td>NaN</td>\n    </tr>\n    <tr>\n      <th>compactness_worst</th>\n      <td>-0.002968</td>\n      <td>0.413463</td>\n      <td>0.277830</td>\n      <td>0.455774</td>\n      <td>0.390410</td>\n      <td>0.472468</td>\n      <td>0.865809</td>\n      <td>0.754968</td>\n      <td>0.667454</td>\n      <td>0.473200</td>\n      <td>...</td>\n      <td>0.360832</td>\n      <td>0.529408</td>\n      <td>0.438296</td>\n      <td>0.568187</td>\n      <td>1.000000</td>\n      <td>0.892261</td>\n      <td>0.801080</td>\n      <td>0.614441</td>\n      <td>0.810455</td>\n      <td>NaN</td>\n    </tr>\n    <tr>\n      <th>concavity_worst</th>\n      <td>0.023203</td>\n      <td>0.526911</td>\n      <td>0.301025</td>\n      <td>0.563879</td>\n      <td>0.512606</td>\n      <td>0.434926</td>\n      <td>0.816275</td>\n      <td>0.884103</td>\n      <td>0.752399</td>\n      <td>0.433721</td>\n      <td>...</td>\n      <td>0.368366</td>\n      <td>0.618344</td>\n      <td>0.543331</td>\n      <td>0.518523</td>\n      <td>0.892261</td>\n      <td>1.000000</td>\n      <td>0.855434</td>\n      <td>0.532520</td>\n      <td>0.686511</td>\n      <td>NaN</td>\n    </tr>\n    <tr>\n      <th>concave points_worst</th>\n      <td>0.035174</td>\n      <td>0.744214</td>\n      <td>0.295316</td>\n      <td>0.771241</td>\n      <td>0.722017</td>\n      <td>0.503053</td>\n      <td>0.815573</td>\n      <td>0.861323</td>\n      <td>0.910155</td>\n      <td>0.430297</td>\n      <td>...</td>\n      <td>0.359755</td>\n      <td>0.816322</td>\n      <td>0.747419</td>\n      <td>0.547691</td>\n      <td>0.801080</td>\n      <td>0.855434</td>\n      <td>1.000000</td>\n      <td>0.502528</td>\n      <td>0.511114</td>\n      <td>NaN</td>\n    </tr>\n    <tr>\n      <th>symmetry_worst</th>\n      <td>-0.044224</td>\n      <td>0.163953</td>\n      <td>0.105008</td>\n      <td>0.189115</td>\n      <td>0.143570</td>\n      <td>0.394309</td>\n      <td>0.510223</td>\n      <td>0.409464</td>\n      <td>0.375744</td>\n      <td>0.699826</td>\n      <td>...</td>\n      <td>0.233027</td>\n      <td>0.269493</td>\n      <td>0.209146</td>\n      <td>0.493838</td>\n      <td>0.614441</td>\n      <td>0.532520</td>\n      <td>0.502528</td>\n      <td>1.000000</td>\n      <td>0.537848</td>\n      <td>NaN</td>\n    </tr>\n    <tr>\n      <th>fractal_dimension_worst</th>\n      <td>-0.029866</td>\n      <td>0.007066</td>\n      <td>0.119205</td>\n      <td>0.051019</td>\n      <td>0.003738</td>\n      <td>0.499316</td>\n      <td>0.687382</td>\n      <td>0.514930</td>\n      <td>0.368661</td>\n      <td>0.438413</td>\n      <td>...</td>\n      <td>0.219122</td>\n      <td>0.138957</td>\n      <td>0.079647</td>\n      <td>0.617624</td>\n      <td>0.810455</td>\n      <td>0.686511</td>\n      <td>0.511114</td>\n      <td>0.537848</td>\n      <td>1.000000</td>\n      <td>NaN</td>\n    </tr>\n    <tr>\n      <th>Unnamed: 32</th>\n      <td>NaN</td>\n      <td>NaN</td>\n      <td>NaN</td>\n      <td>NaN</td>\n      <td>NaN</td>\n      <td>NaN</td>\n      <td>NaN</td>\n      <td>NaN</td>\n      <td>NaN</td>\n      <td>NaN</td>\n      <td>...</td>\n      <td>NaN</td>\n      <td>NaN</td>\n      <td>NaN</td>\n      <td>NaN</td>\n      <td>NaN</td>\n      <td>NaN</td>\n      <td>NaN</td>\n      <td>NaN</td>\n      <td>NaN</td>\n      <td>NaN</td>\n    </tr>\n  </tbody>\n</table>\n<p>32 rows × 32 columns</p>\n</div>"
          },
          "metadata": {}
        }
      ],
      "execution_count": 10
    },
    {
      "cell_type": "code",
      "source": "breast.dropna(axis=1, how='all')",
      "metadata": {
        "trusted": true
      },
      "outputs": [
        {
          "execution_count": 17,
          "output_type": "execute_result",
          "data": {
            "text/plain": "           id diagnosis  radius_mean  texture_mean  perimeter_mean  area_mean  \\\n0      842302         M        17.99         10.38          122.80     1001.0   \n1      842517         M        20.57         17.77          132.90     1326.0   \n2    84300903         M        19.69         21.25          130.00     1203.0   \n3    84348301         M        11.42         20.38           77.58      386.1   \n4    84358402         M        20.29         14.34          135.10     1297.0   \n..        ...       ...          ...           ...             ...        ...   \n564    926424         M        21.56         22.39          142.00     1479.0   \n565    926682         M        20.13         28.25          131.20     1261.0   \n566    926954         M        16.60         28.08          108.30      858.1   \n567    927241         M        20.60         29.33          140.10     1265.0   \n568     92751         B         7.76         24.54           47.92      181.0   \n\n     smoothness_mean  compactness_mean  concavity_mean  concave points_mean  \\\n0            0.11840           0.27760         0.30010              0.14710   \n1            0.08474           0.07864         0.08690              0.07017   \n2            0.10960           0.15990         0.19740              0.12790   \n3            0.14250           0.28390         0.24140              0.10520   \n4            0.10030           0.13280         0.19800              0.10430   \n..               ...               ...             ...                  ...   \n564          0.11100           0.11590         0.24390              0.13890   \n565          0.09780           0.10340         0.14400              0.09791   \n566          0.08455           0.10230         0.09251              0.05302   \n567          0.11780           0.27700         0.35140              0.15200   \n568          0.05263           0.04362         0.00000              0.00000   \n\n     ...  radius_worst  texture_worst  perimeter_worst  area_worst  \\\n0    ...        25.380          17.33           184.60      2019.0   \n1    ...        24.990          23.41           158.80      1956.0   \n2    ...        23.570          25.53           152.50      1709.0   \n3    ...        14.910          26.50            98.87       567.7   \n4    ...        22.540          16.67           152.20      1575.0   \n..   ...           ...            ...              ...         ...   \n564  ...        25.450          26.40           166.10      2027.0   \n565  ...        23.690          38.25           155.00      1731.0   \n566  ...        18.980          34.12           126.70      1124.0   \n567  ...        25.740          39.42           184.60      1821.0   \n568  ...         9.456          30.37            59.16       268.6   \n\n     smoothness_worst  compactness_worst  concavity_worst  \\\n0             0.16220            0.66560           0.7119   \n1             0.12380            0.18660           0.2416   \n2             0.14440            0.42450           0.4504   \n3             0.20980            0.86630           0.6869   \n4             0.13740            0.20500           0.4000   \n..                ...                ...              ...   \n564           0.14100            0.21130           0.4107   \n565           0.11660            0.19220           0.3215   \n566           0.11390            0.30940           0.3403   \n567           0.16500            0.86810           0.9387   \n568           0.08996            0.06444           0.0000   \n\n     concave points_worst  symmetry_worst  fractal_dimension_worst  \n0                  0.2654          0.4601                  0.11890  \n1                  0.1860          0.2750                  0.08902  \n2                  0.2430          0.3613                  0.08758  \n3                  0.2575          0.6638                  0.17300  \n4                  0.1625          0.2364                  0.07678  \n..                    ...             ...                      ...  \n564                0.2216          0.2060                  0.07115  \n565                0.1628          0.2572                  0.06637  \n566                0.1418          0.2218                  0.07820  \n567                0.2650          0.4087                  0.12400  \n568                0.0000          0.2871                  0.07039  \n\n[569 rows x 32 columns]",
            "text/html": "<div>\n<style scoped>\n    .dataframe tbody tr th:only-of-type {\n        vertical-align: middle;\n    }\n\n    .dataframe tbody tr th {\n        vertical-align: top;\n    }\n\n    .dataframe thead th {\n        text-align: right;\n    }\n</style>\n<table border=\"1\" class=\"dataframe\">\n  <thead>\n    <tr style=\"text-align: right;\">\n      <th></th>\n      <th>id</th>\n      <th>diagnosis</th>\n      <th>radius_mean</th>\n      <th>texture_mean</th>\n      <th>perimeter_mean</th>\n      <th>area_mean</th>\n      <th>smoothness_mean</th>\n      <th>compactness_mean</th>\n      <th>concavity_mean</th>\n      <th>concave points_mean</th>\n      <th>...</th>\n      <th>radius_worst</th>\n      <th>texture_worst</th>\n      <th>perimeter_worst</th>\n      <th>area_worst</th>\n      <th>smoothness_worst</th>\n      <th>compactness_worst</th>\n      <th>concavity_worst</th>\n      <th>concave points_worst</th>\n      <th>symmetry_worst</th>\n      <th>fractal_dimension_worst</th>\n    </tr>\n  </thead>\n  <tbody>\n    <tr>\n      <th>0</th>\n      <td>842302</td>\n      <td>M</td>\n      <td>17.99</td>\n      <td>10.38</td>\n      <td>122.80</td>\n      <td>1001.0</td>\n      <td>0.11840</td>\n      <td>0.27760</td>\n      <td>0.30010</td>\n      <td>0.14710</td>\n      <td>...</td>\n      <td>25.380</td>\n      <td>17.33</td>\n      <td>184.60</td>\n      <td>2019.0</td>\n      <td>0.16220</td>\n      <td>0.66560</td>\n      <td>0.7119</td>\n      <td>0.2654</td>\n      <td>0.4601</td>\n      <td>0.11890</td>\n    </tr>\n    <tr>\n      <th>1</th>\n      <td>842517</td>\n      <td>M</td>\n      <td>20.57</td>\n      <td>17.77</td>\n      <td>132.90</td>\n      <td>1326.0</td>\n      <td>0.08474</td>\n      <td>0.07864</td>\n      <td>0.08690</td>\n      <td>0.07017</td>\n      <td>...</td>\n      <td>24.990</td>\n      <td>23.41</td>\n      <td>158.80</td>\n      <td>1956.0</td>\n      <td>0.12380</td>\n      <td>0.18660</td>\n      <td>0.2416</td>\n      <td>0.1860</td>\n      <td>0.2750</td>\n      <td>0.08902</td>\n    </tr>\n    <tr>\n      <th>2</th>\n      <td>84300903</td>\n      <td>M</td>\n      <td>19.69</td>\n      <td>21.25</td>\n      <td>130.00</td>\n      <td>1203.0</td>\n      <td>0.10960</td>\n      <td>0.15990</td>\n      <td>0.19740</td>\n      <td>0.12790</td>\n      <td>...</td>\n      <td>23.570</td>\n      <td>25.53</td>\n      <td>152.50</td>\n      <td>1709.0</td>\n      <td>0.14440</td>\n      <td>0.42450</td>\n      <td>0.4504</td>\n      <td>0.2430</td>\n      <td>0.3613</td>\n      <td>0.08758</td>\n    </tr>\n    <tr>\n      <th>3</th>\n      <td>84348301</td>\n      <td>M</td>\n      <td>11.42</td>\n      <td>20.38</td>\n      <td>77.58</td>\n      <td>386.1</td>\n      <td>0.14250</td>\n      <td>0.28390</td>\n      <td>0.24140</td>\n      <td>0.10520</td>\n      <td>...</td>\n      <td>14.910</td>\n      <td>26.50</td>\n      <td>98.87</td>\n      <td>567.7</td>\n      <td>0.20980</td>\n      <td>0.86630</td>\n      <td>0.6869</td>\n      <td>0.2575</td>\n      <td>0.6638</td>\n      <td>0.17300</td>\n    </tr>\n    <tr>\n      <th>4</th>\n      <td>84358402</td>\n      <td>M</td>\n      <td>20.29</td>\n      <td>14.34</td>\n      <td>135.10</td>\n      <td>1297.0</td>\n      <td>0.10030</td>\n      <td>0.13280</td>\n      <td>0.19800</td>\n      <td>0.10430</td>\n      <td>...</td>\n      <td>22.540</td>\n      <td>16.67</td>\n      <td>152.20</td>\n      <td>1575.0</td>\n      <td>0.13740</td>\n      <td>0.20500</td>\n      <td>0.4000</td>\n      <td>0.1625</td>\n      <td>0.2364</td>\n      <td>0.07678</td>\n    </tr>\n    <tr>\n      <th>...</th>\n      <td>...</td>\n      <td>...</td>\n      <td>...</td>\n      <td>...</td>\n      <td>...</td>\n      <td>...</td>\n      <td>...</td>\n      <td>...</td>\n      <td>...</td>\n      <td>...</td>\n      <td>...</td>\n      <td>...</td>\n      <td>...</td>\n      <td>...</td>\n      <td>...</td>\n      <td>...</td>\n      <td>...</td>\n      <td>...</td>\n      <td>...</td>\n      <td>...</td>\n      <td>...</td>\n    </tr>\n    <tr>\n      <th>564</th>\n      <td>926424</td>\n      <td>M</td>\n      <td>21.56</td>\n      <td>22.39</td>\n      <td>142.00</td>\n      <td>1479.0</td>\n      <td>0.11100</td>\n      <td>0.11590</td>\n      <td>0.24390</td>\n      <td>0.13890</td>\n      <td>...</td>\n      <td>25.450</td>\n      <td>26.40</td>\n      <td>166.10</td>\n      <td>2027.0</td>\n      <td>0.14100</td>\n      <td>0.21130</td>\n      <td>0.4107</td>\n      <td>0.2216</td>\n      <td>0.2060</td>\n      <td>0.07115</td>\n    </tr>\n    <tr>\n      <th>565</th>\n      <td>926682</td>\n      <td>M</td>\n      <td>20.13</td>\n      <td>28.25</td>\n      <td>131.20</td>\n      <td>1261.0</td>\n      <td>0.09780</td>\n      <td>0.10340</td>\n      <td>0.14400</td>\n      <td>0.09791</td>\n      <td>...</td>\n      <td>23.690</td>\n      <td>38.25</td>\n      <td>155.00</td>\n      <td>1731.0</td>\n      <td>0.11660</td>\n      <td>0.19220</td>\n      <td>0.3215</td>\n      <td>0.1628</td>\n      <td>0.2572</td>\n      <td>0.06637</td>\n    </tr>\n    <tr>\n      <th>566</th>\n      <td>926954</td>\n      <td>M</td>\n      <td>16.60</td>\n      <td>28.08</td>\n      <td>108.30</td>\n      <td>858.1</td>\n      <td>0.08455</td>\n      <td>0.10230</td>\n      <td>0.09251</td>\n      <td>0.05302</td>\n      <td>...</td>\n      <td>18.980</td>\n      <td>34.12</td>\n      <td>126.70</td>\n      <td>1124.0</td>\n      <td>0.11390</td>\n      <td>0.30940</td>\n      <td>0.3403</td>\n      <td>0.1418</td>\n      <td>0.2218</td>\n      <td>0.07820</td>\n    </tr>\n    <tr>\n      <th>567</th>\n      <td>927241</td>\n      <td>M</td>\n      <td>20.60</td>\n      <td>29.33</td>\n      <td>140.10</td>\n      <td>1265.0</td>\n      <td>0.11780</td>\n      <td>0.27700</td>\n      <td>0.35140</td>\n      <td>0.15200</td>\n      <td>...</td>\n      <td>25.740</td>\n      <td>39.42</td>\n      <td>184.60</td>\n      <td>1821.0</td>\n      <td>0.16500</td>\n      <td>0.86810</td>\n      <td>0.9387</td>\n      <td>0.2650</td>\n      <td>0.4087</td>\n      <td>0.12400</td>\n    </tr>\n    <tr>\n      <th>568</th>\n      <td>92751</td>\n      <td>B</td>\n      <td>7.76</td>\n      <td>24.54</td>\n      <td>47.92</td>\n      <td>181.0</td>\n      <td>0.05263</td>\n      <td>0.04362</td>\n      <td>0.00000</td>\n      <td>0.00000</td>\n      <td>...</td>\n      <td>9.456</td>\n      <td>30.37</td>\n      <td>59.16</td>\n      <td>268.6</td>\n      <td>0.08996</td>\n      <td>0.06444</td>\n      <td>0.0000</td>\n      <td>0.0000</td>\n      <td>0.2871</td>\n      <td>0.07039</td>\n    </tr>\n  </tbody>\n</table>\n<p>569 rows × 32 columns</p>\n</div>"
          },
          "metadata": {}
        }
      ],
      "execution_count": 17
    },
    {
      "cell_type": "code",
      "source": "breast.describe()\n",
      "metadata": {
        "trusted": true
      },
      "outputs": [
        {
          "execution_count": 18,
          "output_type": "execute_result",
          "data": {
            "text/plain": "                 id  radius_mean  texture_mean  perimeter_mean    area_mean  \\\ncount  5.690000e+02   569.000000    569.000000      569.000000   569.000000   \nmean   3.037183e+07    14.127292     19.289649       91.969033   654.889104   \nstd    1.250206e+08     3.524049      4.301036       24.298981   351.914129   \nmin    8.670000e+03     6.981000      9.710000       43.790000   143.500000   \n25%    8.692180e+05    11.700000     16.170000       75.170000   420.300000   \n50%    9.060240e+05    13.370000     18.840000       86.240000   551.100000   \n75%    8.813129e+06    15.780000     21.800000      104.100000   782.700000   \nmax    9.113205e+08    28.110000     39.280000      188.500000  2501.000000   \n\n       smoothness_mean  compactness_mean  concavity_mean  concave points_mean  \\\ncount       569.000000        569.000000      569.000000           569.000000   \nmean          0.096360          0.104341        0.088799             0.048919   \nstd           0.014064          0.052813        0.079720             0.038803   \nmin           0.052630          0.019380        0.000000             0.000000   \n25%           0.086370          0.064920        0.029560             0.020310   \n50%           0.095870          0.092630        0.061540             0.033500   \n75%           0.105300          0.130400        0.130700             0.074000   \nmax           0.163400          0.345400        0.426800             0.201200   \n\n       symmetry_mean  ...  radius_worst  texture_worst  perimeter_worst  \\\ncount     569.000000  ...    569.000000     569.000000       569.000000   \nmean        0.181162  ...     16.269190      25.677223       107.261213   \nstd         0.027414  ...      4.833242       6.146258        33.602542   \nmin         0.106000  ...      7.930000      12.020000        50.410000   \n25%         0.161900  ...     13.010000      21.080000        84.110000   \n50%         0.179200  ...     14.970000      25.410000        97.660000   \n75%         0.195700  ...     18.790000      29.720000       125.400000   \nmax         0.304000  ...     36.040000      49.540000       251.200000   \n\n        area_worst  smoothness_worst  compactness_worst  concavity_worst  \\\ncount   569.000000        569.000000         569.000000       569.000000   \nmean    880.583128          0.132369           0.254265         0.272188   \nstd     569.356993          0.022832           0.157336         0.208624   \nmin     185.200000          0.071170           0.027290         0.000000   \n25%     515.300000          0.116600           0.147200         0.114500   \n50%     686.500000          0.131300           0.211900         0.226700   \n75%    1084.000000          0.146000           0.339100         0.382900   \nmax    4254.000000          0.222600           1.058000         1.252000   \n\n       concave points_worst  symmetry_worst  fractal_dimension_worst  \ncount            569.000000      569.000000               569.000000  \nmean               0.114606        0.290076                 0.083946  \nstd                0.065732        0.061867                 0.018061  \nmin                0.000000        0.156500                 0.055040  \n25%                0.064930        0.250400                 0.071460  \n50%                0.099930        0.282200                 0.080040  \n75%                0.161400        0.317900                 0.092080  \nmax                0.291000        0.663800                 0.207500  \n\n[8 rows x 31 columns]",
            "text/html": "<div>\n<style scoped>\n    .dataframe tbody tr th:only-of-type {\n        vertical-align: middle;\n    }\n\n    .dataframe tbody tr th {\n        vertical-align: top;\n    }\n\n    .dataframe thead th {\n        text-align: right;\n    }\n</style>\n<table border=\"1\" class=\"dataframe\">\n  <thead>\n    <tr style=\"text-align: right;\">\n      <th></th>\n      <th>id</th>\n      <th>radius_mean</th>\n      <th>texture_mean</th>\n      <th>perimeter_mean</th>\n      <th>area_mean</th>\n      <th>smoothness_mean</th>\n      <th>compactness_mean</th>\n      <th>concavity_mean</th>\n      <th>concave points_mean</th>\n      <th>symmetry_mean</th>\n      <th>...</th>\n      <th>radius_worst</th>\n      <th>texture_worst</th>\n      <th>perimeter_worst</th>\n      <th>area_worst</th>\n      <th>smoothness_worst</th>\n      <th>compactness_worst</th>\n      <th>concavity_worst</th>\n      <th>concave points_worst</th>\n      <th>symmetry_worst</th>\n      <th>fractal_dimension_worst</th>\n    </tr>\n  </thead>\n  <tbody>\n    <tr>\n      <th>count</th>\n      <td>5.690000e+02</td>\n      <td>569.000000</td>\n      <td>569.000000</td>\n      <td>569.000000</td>\n      <td>569.000000</td>\n      <td>569.000000</td>\n      <td>569.000000</td>\n      <td>569.000000</td>\n      <td>569.000000</td>\n      <td>569.000000</td>\n      <td>...</td>\n      <td>569.000000</td>\n      <td>569.000000</td>\n      <td>569.000000</td>\n      <td>569.000000</td>\n      <td>569.000000</td>\n      <td>569.000000</td>\n      <td>569.000000</td>\n      <td>569.000000</td>\n      <td>569.000000</td>\n      <td>569.000000</td>\n    </tr>\n    <tr>\n      <th>mean</th>\n      <td>3.037183e+07</td>\n      <td>14.127292</td>\n      <td>19.289649</td>\n      <td>91.969033</td>\n      <td>654.889104</td>\n      <td>0.096360</td>\n      <td>0.104341</td>\n      <td>0.088799</td>\n      <td>0.048919</td>\n      <td>0.181162</td>\n      <td>...</td>\n      <td>16.269190</td>\n      <td>25.677223</td>\n      <td>107.261213</td>\n      <td>880.583128</td>\n      <td>0.132369</td>\n      <td>0.254265</td>\n      <td>0.272188</td>\n      <td>0.114606</td>\n      <td>0.290076</td>\n      <td>0.083946</td>\n    </tr>\n    <tr>\n      <th>std</th>\n      <td>1.250206e+08</td>\n      <td>3.524049</td>\n      <td>4.301036</td>\n      <td>24.298981</td>\n      <td>351.914129</td>\n      <td>0.014064</td>\n      <td>0.052813</td>\n      <td>0.079720</td>\n      <td>0.038803</td>\n      <td>0.027414</td>\n      <td>...</td>\n      <td>4.833242</td>\n      <td>6.146258</td>\n      <td>33.602542</td>\n      <td>569.356993</td>\n      <td>0.022832</td>\n      <td>0.157336</td>\n      <td>0.208624</td>\n      <td>0.065732</td>\n      <td>0.061867</td>\n      <td>0.018061</td>\n    </tr>\n    <tr>\n      <th>min</th>\n      <td>8.670000e+03</td>\n      <td>6.981000</td>\n      <td>9.710000</td>\n      <td>43.790000</td>\n      <td>143.500000</td>\n      <td>0.052630</td>\n      <td>0.019380</td>\n      <td>0.000000</td>\n      <td>0.000000</td>\n      <td>0.106000</td>\n      <td>...</td>\n      <td>7.930000</td>\n      <td>12.020000</td>\n      <td>50.410000</td>\n      <td>185.200000</td>\n      <td>0.071170</td>\n      <td>0.027290</td>\n      <td>0.000000</td>\n      <td>0.000000</td>\n      <td>0.156500</td>\n      <td>0.055040</td>\n    </tr>\n    <tr>\n      <th>25%</th>\n      <td>8.692180e+05</td>\n      <td>11.700000</td>\n      <td>16.170000</td>\n      <td>75.170000</td>\n      <td>420.300000</td>\n      <td>0.086370</td>\n      <td>0.064920</td>\n      <td>0.029560</td>\n      <td>0.020310</td>\n      <td>0.161900</td>\n      <td>...</td>\n      <td>13.010000</td>\n      <td>21.080000</td>\n      <td>84.110000</td>\n      <td>515.300000</td>\n      <td>0.116600</td>\n      <td>0.147200</td>\n      <td>0.114500</td>\n      <td>0.064930</td>\n      <td>0.250400</td>\n      <td>0.071460</td>\n    </tr>\n    <tr>\n      <th>50%</th>\n      <td>9.060240e+05</td>\n      <td>13.370000</td>\n      <td>18.840000</td>\n      <td>86.240000</td>\n      <td>551.100000</td>\n      <td>0.095870</td>\n      <td>0.092630</td>\n      <td>0.061540</td>\n      <td>0.033500</td>\n      <td>0.179200</td>\n      <td>...</td>\n      <td>14.970000</td>\n      <td>25.410000</td>\n      <td>97.660000</td>\n      <td>686.500000</td>\n      <td>0.131300</td>\n      <td>0.211900</td>\n      <td>0.226700</td>\n      <td>0.099930</td>\n      <td>0.282200</td>\n      <td>0.080040</td>\n    </tr>\n    <tr>\n      <th>75%</th>\n      <td>8.813129e+06</td>\n      <td>15.780000</td>\n      <td>21.800000</td>\n      <td>104.100000</td>\n      <td>782.700000</td>\n      <td>0.105300</td>\n      <td>0.130400</td>\n      <td>0.130700</td>\n      <td>0.074000</td>\n      <td>0.195700</td>\n      <td>...</td>\n      <td>18.790000</td>\n      <td>29.720000</td>\n      <td>125.400000</td>\n      <td>1084.000000</td>\n      <td>0.146000</td>\n      <td>0.339100</td>\n      <td>0.382900</td>\n      <td>0.161400</td>\n      <td>0.317900</td>\n      <td>0.092080</td>\n    </tr>\n    <tr>\n      <th>max</th>\n      <td>9.113205e+08</td>\n      <td>28.110000</td>\n      <td>39.280000</td>\n      <td>188.500000</td>\n      <td>2501.000000</td>\n      <td>0.163400</td>\n      <td>0.345400</td>\n      <td>0.426800</td>\n      <td>0.201200</td>\n      <td>0.304000</td>\n      <td>...</td>\n      <td>36.040000</td>\n      <td>49.540000</td>\n      <td>251.200000</td>\n      <td>4254.000000</td>\n      <td>0.222600</td>\n      <td>1.058000</td>\n      <td>1.252000</td>\n      <td>0.291000</td>\n      <td>0.663800</td>\n      <td>0.207500</td>\n    </tr>\n  </tbody>\n</table>\n<p>8 rows × 31 columns</p>\n</div>"
          },
          "metadata": {}
        }
      ],
      "execution_count": 18
    },
    {
      "cell_type": "code",
      "source": "#encoding the target variable",
      "metadata": {
        "trusted": true
      },
      "outputs": [],
      "execution_count": null
    },
    {
      "cell_type": "code",
      "source": "from sklearn.preprocessing import LabelEncoder\nle = LabelEncoder()",
      "metadata": {
        "trusted": true
      },
      "outputs": [],
      "execution_count": 21
    },
    {
      "cell_type": "code",
      "source": "breast['diagnosis']=breast['diagnosis'].map({\"M\":1,'B':0})",
      "metadata": {
        "trusted": true
      },
      "outputs": [],
      "execution_count": 22
    },
    {
      "cell_type": "code",
      "source": "breast['diagnosis'].value_counts()",
      "metadata": {
        "trusted": true
      },
      "outputs": [
        {
          "execution_count": 24,
          "output_type": "execute_result",
          "data": {
            "text/plain": "0    357\n1    212\nName: diagnosis, dtype: int64"
          },
          "metadata": {}
        }
      ],
      "execution_count": 24
    },
    {
      "cell_type": "code",
      "source": "#splitting data into training and testing sets",
      "metadata": {
        "trusted": true
      },
      "outputs": [],
      "execution_count": null
    },
    {
      "cell_type": "code",
      "source": "x=breast.drop('diagnosis',axis=1)\ny=breast['diagnosis']",
      "metadata": {
        "trusted": true
      },
      "outputs": [],
      "execution_count": 25
    },
    {
      "cell_type": "code",
      "source": "x.shape",
      "metadata": {
        "trusted": true
      },
      "outputs": [
        {
          "execution_count": 26,
          "output_type": "execute_result",
          "data": {
            "text/plain": "(569, 31)"
          },
          "metadata": {}
        }
      ],
      "execution_count": 26
    },
    {
      "cell_type": "code",
      "source": "from sklearn.model_selection import train_test_split",
      "metadata": {
        "trusted": true
      },
      "outputs": [],
      "execution_count": 27
    },
    {
      "cell_type": "code",
      "source": "x_train,x_test,y_train,y_test = train_test_split(x,y,test_size=0.2,random_state=42)",
      "metadata": {
        "trusted": true
      },
      "outputs": [],
      "execution_count": 35
    },
    {
      "cell_type": "code",
      "source": "x_train.shape",
      "metadata": {
        "trusted": true
      },
      "outputs": [
        {
          "execution_count": 36,
          "output_type": "execute_result",
          "data": {
            "text/plain": "(455, 31)"
          },
          "metadata": {}
        }
      ],
      "execution_count": 36
    },
    {
      "cell_type": "code",
      "source": "x_test.shape",
      "metadata": {
        "trusted": true
      },
      "outputs": [
        {
          "execution_count": 37,
          "output_type": "execute_result",
          "data": {
            "text/plain": "(114, 31)"
          },
          "metadata": {}
        }
      ],
      "execution_count": 37
    },
    {
      "cell_type": "code",
      "source": "#Feature Scaling",
      "metadata": {
        "trusted": true
      },
      "outputs": [],
      "execution_count": 38
    },
    {
      "cell_type": "code",
      "source": "from sklearn.preprocessing import StandardScaler\nsc = StandardScaler()",
      "metadata": {
        "trusted": true
      },
      "outputs": [],
      "execution_count": 40
    },
    {
      "cell_type": "code",
      "source": "sc.fit(x_train)",
      "metadata": {
        "trusted": true
      },
      "outputs": [
        {
          "execution_count": 41,
          "output_type": "execute_result",
          "data": {
            "text/plain": "StandardScaler()",
            "text/html": "<style>#sk-container-id-1 {color: black;}#sk-container-id-1 pre{padding: 0;}#sk-container-id-1 div.sk-toggleable {background-color: white;}#sk-container-id-1 label.sk-toggleable__label {cursor: pointer;display: block;width: 100%;margin-bottom: 0;padding: 0.3em;box-sizing: border-box;text-align: center;}#sk-container-id-1 label.sk-toggleable__label-arrow:before {content: \"▸\";float: left;margin-right: 0.25em;color: #696969;}#sk-container-id-1 label.sk-toggleable__label-arrow:hover:before {color: black;}#sk-container-id-1 div.sk-estimator:hover label.sk-toggleable__label-arrow:before {color: black;}#sk-container-id-1 div.sk-toggleable__content {max-height: 0;max-width: 0;overflow: hidden;text-align: left;background-color: #f0f8ff;}#sk-container-id-1 div.sk-toggleable__content pre {margin: 0.2em;color: black;border-radius: 0.25em;background-color: #f0f8ff;}#sk-container-id-1 input.sk-toggleable__control:checked~div.sk-toggleable__content {max-height: 200px;max-width: 100%;overflow: auto;}#sk-container-id-1 input.sk-toggleable__control:checked~label.sk-toggleable__label-arrow:before {content: \"▾\";}#sk-container-id-1 div.sk-estimator input.sk-toggleable__control:checked~label.sk-toggleable__label {background-color: #d4ebff;}#sk-container-id-1 div.sk-label input.sk-toggleable__control:checked~label.sk-toggleable__label {background-color: #d4ebff;}#sk-container-id-1 input.sk-hidden--visually {border: 0;clip: rect(1px 1px 1px 1px);clip: rect(1px, 1px, 1px, 1px);height: 1px;margin: -1px;overflow: hidden;padding: 0;position: absolute;width: 1px;}#sk-container-id-1 div.sk-estimator {font-family: monospace;background-color: #f0f8ff;border: 1px dotted black;border-radius: 0.25em;box-sizing: border-box;margin-bottom: 0.5em;}#sk-container-id-1 div.sk-estimator:hover {background-color: #d4ebff;}#sk-container-id-1 div.sk-parallel-item::after {content: \"\";width: 100%;border-bottom: 1px solid gray;flex-grow: 1;}#sk-container-id-1 div.sk-label:hover label.sk-toggleable__label {background-color: #d4ebff;}#sk-container-id-1 div.sk-serial::before {content: \"\";position: absolute;border-left: 1px solid gray;box-sizing: border-box;top: 0;bottom: 0;left: 50%;z-index: 0;}#sk-container-id-1 div.sk-serial {display: flex;flex-direction: column;align-items: center;background-color: white;padding-right: 0.2em;padding-left: 0.2em;position: relative;}#sk-container-id-1 div.sk-item {position: relative;z-index: 1;}#sk-container-id-1 div.sk-parallel {display: flex;align-items: stretch;justify-content: center;background-color: white;position: relative;}#sk-container-id-1 div.sk-item::before, #sk-container-id-1 div.sk-parallel-item::before {content: \"\";position: absolute;border-left: 1px solid gray;box-sizing: border-box;top: 0;bottom: 0;left: 50%;z-index: -1;}#sk-container-id-1 div.sk-parallel-item {display: flex;flex-direction: column;z-index: 1;position: relative;background-color: white;}#sk-container-id-1 div.sk-parallel-item:first-child::after {align-self: flex-end;width: 50%;}#sk-container-id-1 div.sk-parallel-item:last-child::after {align-self: flex-start;width: 50%;}#sk-container-id-1 div.sk-parallel-item:only-child::after {width: 0;}#sk-container-id-1 div.sk-dashed-wrapped {border: 1px dashed gray;margin: 0 0.4em 0.5em 0.4em;box-sizing: border-box;padding-bottom: 0.4em;background-color: white;}#sk-container-id-1 div.sk-label label {font-family: monospace;font-weight: bold;display: inline-block;line-height: 1.2em;}#sk-container-id-1 div.sk-label-container {text-align: center;}#sk-container-id-1 div.sk-container {/* jupyter's `normalize.less` sets `[hidden] { display: none; }` but bootstrap.min.css set `[hidden] { display: none !important; }` so we also need the `!important` here to be able to override the default hidden behavior on the sphinx rendered scikit-learn.org. See: https://github.com/scikit-learn/scikit-learn/issues/21755 */display: inline-block !important;position: relative;}#sk-container-id-1 div.sk-text-repr-fallback {display: none;}</style><div id=\"sk-container-id-1\" class=\"sk-top-container\"><div class=\"sk-text-repr-fallback\"><pre>StandardScaler()</pre><b>In a Jupyter environment, please rerun this cell to show the HTML representation or trust the notebook. <br />On GitHub, the HTML representation is unable to render, please try loading this page with nbviewer.org.</b></div><div class=\"sk-container\" hidden><div class=\"sk-item\"><div class=\"sk-estimator sk-toggleable\"><input class=\"sk-toggleable__control sk-hidden--visually\" id=\"sk-estimator-id-1\" type=\"checkbox\" checked><label for=\"sk-estimator-id-1\" class=\"sk-toggleable__label sk-toggleable__label-arrow\">StandardScaler</label><div class=\"sk-toggleable__content\"><pre>StandardScaler()</pre></div></div></div></div></div>"
          },
          "metadata": {}
        }
      ],
      "execution_count": 41
    },
    {
      "cell_type": "code",
      "source": "x_train=sc.transform(x_train)\nx_test=sc.transform(x_test)",
      "metadata": {
        "trusted": true
      },
      "outputs": [],
      "execution_count": 42
    },
    {
      "cell_type": "code",
      "source": "x_train",
      "metadata": {
        "trusted": true
      },
      "outputs": [
        {
          "execution_count": 43,
          "output_type": "execute_result",
          "data": {
            "text/plain": "array([[-0.23712699, -1.44075296, -0.43531947, ...,  0.9320124 ,\n         2.09724217,  1.88645014],\n       [-0.23702031,  1.97409619,  1.73302577, ...,  2.6989469 ,\n         1.89116053,  2.49783848],\n       [-0.23712907, -1.39998202, -1.24962228, ..., -0.97023893,\n         0.59760192,  0.0578942 ],\n       ...,\n       [-0.17630431,  0.04880192, -0.55500086, ..., -1.23903365,\n        -0.70863864, -1.27145475],\n       [-0.23675669, -0.03896885,  0.10207345, ...,  1.05001236,\n         0.43432185,  1.21336207],\n       [-0.2371006 , -0.54860557,  0.31327591, ..., -0.61102866,\n        -0.3345212 , -0.84628745]])"
          },
          "metadata": {}
        }
      ],
      "execution_count": 43
    },
    {
      "cell_type": "code",
      "source": "#Training Model (logistic regression)",
      "metadata": {
        "trusted": true
      },
      "outputs": [],
      "execution_count": 44
    },
    {
      "cell_type": "code",
      "source": "from sklearn.linear_model import LogisticRegression\nlg=LogisticRegression()",
      "metadata": {
        "trusted": true
      },
      "outputs": [],
      "execution_count": 45
    },
    {
      "cell_type": "code",
      "source": "lg.fit(x_train,y_train)\ny_pred = lg.predict(x_test)",
      "metadata": {
        "trusted": true
      },
      "outputs": [],
      "execution_count": 46
    },
    {
      "cell_type": "code",
      "source": "y_pred",
      "metadata": {
        "trusted": true
      },
      "outputs": [
        {
          "execution_count": 47,
          "output_type": "execute_result",
          "data": {
            "text/plain": "array([0, 1, 1, 0, 0, 1, 1, 1, 0, 0, 0, 1, 0, 1, 0, 1, 0, 0, 0, 1, 0, 0,\n       1, 0, 0, 0, 0, 0, 0, 1, 0, 0, 0, 0, 0, 0, 1, 0, 1, 0, 0, 1, 0, 0,\n       0, 0, 0, 0, 0, 0, 1, 1, 0, 0, 0, 0, 0, 1, 1, 0, 0, 1, 1, 0, 0, 0,\n       1, 1, 0, 0, 1, 1, 0, 1, 0, 0, 0, 0, 0, 0, 1, 0, 1, 1, 1, 1, 1, 1,\n       0, 0, 0, 0, 0, 0, 0, 0, 1, 1, 0, 1, 1, 0, 1, 1, 0, 0, 0, 1, 0, 0,\n       1, 0, 1, 1], dtype=int64)"
          },
          "metadata": {}
        }
      ],
      "execution_count": 47
    },
    {
      "cell_type": "code",
      "source": "from sklearn.metrics import accuracy_score",
      "metadata": {
        "trusted": true
      },
      "outputs": [],
      "execution_count": 48
    },
    {
      "cell_type": "code",
      "source": "accuracy_score(y_test,y_pred)",
      "metadata": {
        "trusted": true
      },
      "outputs": [
        {
          "execution_count": 49,
          "output_type": "execute_result",
          "data": {
            "text/plain": "0.9736842105263158"
          },
          "metadata": {}
        }
      ],
      "execution_count": 49
    },
    {
      "cell_type": "code",
      "source": "#Prediction System",
      "metadata": {
        "trusted": true
      },
      "outputs": [],
      "execution_count": 50
    },
    {
      "cell_type": "code",
      "source": "input_text = ( 0.39698916,  0.11958479,  1.96065509,  0.19953494,  0.01247322,\n        1.30546248,  1.06616467,  0.94483968,  0.66704965,  1.79193526,\n        1.11267286, -0.11319029, -0.31356609,  0.01002769, -0.1594023 ,\n       -0.45262375,  0.90198449,  0.45425775, -0.15808988, -0.24543922,\n        0.59105739,  0.25486944,  1.91374485,  0.50983548,  0.11676769,\n        1.57295704,  2.61526825,  2.04622942,  0.87377865,  2.08138973,\n        2.81755532)\nnp_df = np.asarray(input_text)\nprediction = lg.predict(np_df.reshape(1,-1))\n\nif prediction[0] ==1:\n    print(\"Cancer detected\")\nelse:\n    print(\"Cancer not detected\")",
      "metadata": {
        "trusted": true
      },
      "outputs": [
        {
          "name": "stdout",
          "text": "Cancer detected\n",
          "output_type": "stream"
        }
      ],
      "execution_count": 58
    },
    {
      "cell_type": "code",
      "source": "x_train[5]",
      "metadata": {
        "trusted": true
      },
      "outputs": [
        {
          "execution_count": 57,
          "output_type": "execute_result",
          "data": {
            "text/plain": "array([ 0.39698916,  0.11958479,  1.96065509,  0.19953494,  0.01247322,\n        1.30546248,  1.06616467,  0.94483968,  0.66704965,  1.79193526,\n        1.11267286, -0.11319029, -0.31356609,  0.01002769, -0.1594023 ,\n       -0.45262375,  0.90198449,  0.45425775, -0.15808988, -0.24543922,\n        0.59105739,  0.25486944,  1.91374485,  0.50983548,  0.11676769,\n        1.57295704,  2.61526825,  2.04622942,  0.87377865,  2.08138973,\n        2.81755532])"
          },
          "metadata": {}
        }
      ],
      "execution_count": 57
    },
    {
      "cell_type": "code",
      "source": "import pickle\npickle.dump(lg,open('model.pkl','wb'))",
      "metadata": {
        "trusted": true
      },
      "outputs": [],
      "execution_count": 60
    },
    {
      "cell_type": "code",
      "source": "",
      "metadata": {
        "trusted": true
      },
      "outputs": [],
      "execution_count": null
    }
  ]
}